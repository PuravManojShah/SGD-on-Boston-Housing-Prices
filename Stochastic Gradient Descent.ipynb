{
 "cells": [
  {
   "cell_type": "code",
   "execution_count": 527,
   "metadata": {},
   "outputs": [],
   "source": [
    "import warnings\n",
    "warnings.filterwarnings('ignore')\n",
    "from sklearn.datasets import load_boston\n",
    "import numpy as np\n",
    "import pandas as pd\n",
    "import matplotlib.pyplot as plt\n",
    "import seaborn as sns\n",
    "from sklearn.preprocessing import StandardScaler\n",
    "from sklearn.linear_model import SGDRegressor\n",
    "from sklearn.model_selection import train_test_split\n",
    "from sklearn.metrics import mean_absolute_error,mean_squared_error"
   ]
  },
  {
   "cell_type": "code",
   "execution_count": 528,
   "metadata": {},
   "outputs": [],
   "source": [
    "#https://github.com/krpiyush5/SGD-on-Boston-Dataset/blob/master/06%20Implement%20SGD.ipynb\n",
    "boston=load_boston()"
   ]
  },
  {
   "cell_type": "code",
   "execution_count": 529,
   "metadata": {},
   "outputs": [
    {
     "name": "stdout",
     "output_type": "stream",
     "text": [
      "['CRIM' 'ZN' 'INDUS' 'CHAS' 'NOX' 'RM' 'AGE' 'DIS' 'RAD' 'TAX' 'PTRATIO'\n",
      " 'B' 'LSTAT']\n"
     ]
    }
   ],
   "source": [
    "print(boston.feature_names)"
   ]
  },
  {
   "cell_type": "code",
   "execution_count": 530,
   "metadata": {},
   "outputs": [
    {
     "name": "stdout",
     "output_type": "stream",
     "text": [
      "        0     1     2    3      4      5     6       7    8      9     10  \\\n",
      "0  0.00632  18.0  2.31  0.0  0.538  6.575  65.2  4.0900  1.0  296.0  15.3   \n",
      "1  0.02731   0.0  7.07  0.0  0.469  6.421  78.9  4.9671  2.0  242.0  17.8   \n",
      "2  0.02729   0.0  7.07  0.0  0.469  7.185  61.1  4.9671  2.0  242.0  17.8   \n",
      "3  0.03237   0.0  2.18  0.0  0.458  6.998  45.8  6.0622  3.0  222.0  18.7   \n",
      "4  0.06905   0.0  2.18  0.0  0.458  7.147  54.2  6.0622  3.0  222.0  18.7   \n",
      "\n",
      "       11    12  \n",
      "0  396.90  4.98  \n",
      "1  396.90  9.14  \n",
      "2  392.83  4.03  \n",
      "3  394.63  2.94  \n",
      "4  396.90  5.33  \n"
     ]
    }
   ],
   "source": [
    "data=boston.data\n",
    "Y=boston.target\n",
    "dataframe=pd.DataFrame(data)\n",
    "X=dataframe.as_matrix()\n",
    "print(dataframe.head())\n",
    "\n",
    "#scaler=StandardScaler()\n",
    "#data=scaler.fit_transform(data)\n",
    "#price=boston.target\n",
    "#df=pd.DataFrame(data,price)\n",
    "#df[13]=df[10]//df[12]\n",
    "#df['price']=boston.target\n",
    "#print(df.head())"
   ]
  },
  {
   "cell_type": "code",
   "execution_count": 531,
   "metadata": {},
   "outputs": [
    {
     "name": "stdout",
     "output_type": "stream",
     "text": [
      "(354, 13)\n",
      "(152, 13)\n",
      "(354,)\n",
      "(152,)\n"
     ]
    }
   ],
   "source": [
    "X_tr,X_test,Y_tr,Y_test=train_test_split(dataframe,Y,test_size=0.3,random_state=4)\n",
    "#data=boston.data\n",
    "scaler=StandardScaler()\n",
    "X_tr=scaler.fit_transform(X_tr)\n",
    "X_test=scaler.fit_transform(X_test)\n",
    "#price=boston.target\n",
    "df=pd.DataFrame(X_tr)\n",
    "df['price']=Y_tr\n",
    "#print(df.head())\n",
    "print(X_tr.shape)\n",
    "print(X_test.shape)\n",
    "print(Y_tr.shape)\n",
    "print(Y_test.shape)"
   ]
  },
  {
   "cell_type": "code",
   "execution_count": 532,
   "metadata": {},
   "outputs": [
    {
     "data": {
      "text/plain": [
       "array([[0., 0., 0., 0., 0., 0., 0., 0., 0., 0., 0., 0., 0.]])"
      ]
     },
     "execution_count": 532,
     "metadata": {},
     "output_type": "execute_result"
    }
   ],
   "source": [
    "#W=np.random.normal(0,1,df.shape[1])\n",
    "W=np.zeros(shape=(1,13))\n",
    "W"
   ]
  },
  {
   "cell_type": "code",
   "execution_count": 533,
   "metadata": {},
   "outputs": [
    {
     "name": "stdout",
     "output_type": "stream",
     "text": [
      "[[-0.66420985  0.38490873 -0.56907786  1.15609307 -0.44514587  2.60186207\n",
      "  -0.17254941 -1.33088312  0.3748435  -0.47724059 -1.45132229  0.75158293\n",
      "  -2.84728788]]\n",
      "[19.13796162]\n"
     ]
    }
   ],
   "source": [
    "k=25\n",
    "B=0\n",
    "r=0.001\n",
    "itera=1000\n",
    "while itera>=0:\n",
    "    w=W\n",
    "    b=B\n",
    "    random=df.sample(k)\n",
    "    x=np.array(random.drop('price',axis=1))\n",
    "    #print(x.shape)\n",
    "    y=np.array(random['price'])\n",
    "    derivative_w=np.zeros(shape=(1,13))\n",
    "    derivative_b=0\n",
    "    for i in range(k):\n",
    "        derivative_w+=(-2)*x[i]*(y[i]-(np.dot(w,x[i])+b))\n",
    "        derivative_b+=(-2)*(y[i]-(np.dot(w,x[i])+b))\n",
    "    W=(w-r*(derivative_w)/k)\n",
    "    B=(b-r*(derivative_b)/k)\n",
    "    #r=r/2\n",
    "    itera-=1\n",
    "print(W)\n",
    "print(B)"
   ]
  },
  {
   "cell_type": "code",
   "execution_count": 534,
   "metadata": {},
   "outputs": [
    {
     "data": {
      "text/plain": [
       "Text(0,0.5,'Predicted prices')"
      ]
     },
     "execution_count": 534,
     "metadata": {},
     "output_type": "execute_result"
    },
    {
     "data": {
      "image/png": "[encoded data removed]",
      "text/plain": [
       "<Figure size 432x288 with 1 Axes>"
      ]
     },
     "metadata": {},
     "output_type": "display_data"
    }
   ],
   "source": [
    "y_pred=np.zeros(shape=(152,1))\n",
    "for i in range(len(X_test)):\n",
    "    y_pred=np.dot(W,X_test.T)+B\n",
    "    \n",
    "#print(Y_test)\n",
    "#print(len(y_pred)==len(Y_test))\n",
    "#print(isinstance(Y_test,np.ndarray))\n",
    "#print(np.ravel(y_pred))\n",
    "plt.scatter(Y_test,y_pred)\n",
    "plt.xlabel('Actual Prices')\n",
    "plt.ylabel('Predicted prices')"
   ]
  },
  {
   "cell_type": "code",
   "execution_count": 535,
   "metadata": {},
   "outputs": [
    {
     "name": "stdout",
     "output_type": "stream",
     "text": [
      "The mean squared error for self written algorithm is 32.500303521521154\n",
      "The mean absolute error for self written algorithm is 3.802185169118012\n"
     ]
    }
   ],
   "source": [
    "print('The mean squared error for self written algorithm is',mean_squared_error(Y_test,pred))\n",
    "print('The mean absolute error for self written algorithm is',mean_absolute_error(Y_test,pred))"
   ]
  },
  {
   "cell_type": "code",
   "execution_count": 536,
   "metadata": {},
   "outputs": [
    {
     "data": {
      "text/plain": [
       "Text(0,0.5,'Predicted prices')"
      ]
     },
     "execution_count": 536,
     "metadata": {},
     "output_type": "execute_result"
    },
    {
     "data": {
      "image/png": "[encoded data removed]",
      "text/plain": [
       "<Figure size 432x288 with 1 Axes>"
      ]
     },
     "metadata": {},
     "output_type": "display_data"
    }
   ],
   "source": [
    "model=SGDRegressor(penalty='none', max_iter=1000, learning_rate='constant' , eta0=0.001  )\n",
    "model.fit(X_tr,Y_tr)\n",
    "pred=model.predict(X_test)\n",
    "plt.scatter(Y_test,pred)\n",
    "plt.xlabel('Actual Prices')\n",
    "plt.ylabel('Predicted prices')"
   ]
  },
  {
   "cell_type": "code",
   "execution_count": 537,
   "metadata": {},
   "outputs": [
    {
     "name": "stdout",
     "output_type": "stream",
     "text": [
      "The mean squared error for inbuilt algorithm is 32.2077169692522\n",
      "The mean absolute error for inbuilt algorithm is 3.7936803594332615\n"
     ]
    }
   ],
   "source": [
    "print('The mean squared error for inbuilt algorithm is',mean_squared_error(Y_test,pred))\n",
    "print('The mean absolute error for inbuilt algorithm is',mean_absolute_error(Y_test,pred))"
   ]
  },
  {
   "cell_type": "code",
   "execution_count": 538,
   "metadata": {},
   "outputs": [
    {
     "data": {
      "text/plain": [
       "array([-1.0949434 ,  1.29752495, -0.07451777,  1.03886627, -1.7096342 ,\n",
       "        2.17583111, -0.10971358, -3.32275667,  2.89267965, -2.39752991,\n",
       "       -1.7426156 ,  0.86313296, -3.73671315])"
      ]
     },
     "execution_count": 538,
     "metadata": {},
     "output_type": "execute_result"
    }
   ],
   "source": [
    "W_scikit=model.coef_\n",
    "W_scikit"
   ]
  },
  {
   "cell_type": "code",
   "execution_count": 543,
   "metadata": {},
   "outputs": [
    {
     "name": "stdout",
     "output_type": "stream",
     "text": [
      "+--------------------------+--------------------------------+\n",
      "| Manual SGD weight values | Scikit-Learn SGD weight values |\n",
      "+--------------------------+--------------------------------+\n",
      "|      [-0.66420985]       |      -1.0949434000555538       |\n",
      "|       [0.38490873]       |       1.297524951253267        |\n",
      "|      [-0.56907786]       |      -0.07451777464126837      |\n",
      "|       [1.15609307]       |       1.0388662678484226       |\n",
      "|      [-0.44514587]       |      -1.7096341978978646       |\n",
      "|       [2.60186207]       |       2.1758311124853447       |\n",
      "|      [-0.17254941]       |      -0.10971357835419784      |\n",
      "|      [-1.33088312]       |       -3.322756665430934       |\n",
      "|       [0.3748435]        |       2.8926796458064072       |\n",
      "|      [-0.47724059]       |      -2.3975299058735597       |\n",
      "|      [-1.45132229]       |      -1.7426156046454722       |\n",
      "|       [0.75158293]       |       0.8631329610839125       |\n",
      "|      [-2.84728788]       |       -3.736713150493559       |\n",
      "+--------------------------+--------------------------------+\n"
     ]
    }
   ],
   "source": [
    "W=W.T\n",
    "from prettytable import PrettyTable\n",
    "x=PrettyTable()\n",
    "column_names=(['Manual SGD weight values','Scikit-Learn SGD weight values'])\n",
    "x.add_column(column_names[0],W)\n",
    "x.add_column(column_names[1],W_scikit.T)\n",
    "print(x)"
   ]
  },
  {
   "cell_type": "code",
   "execution_count": null,
   "metadata": {},
   "outputs": [],
   "source": []
  }
 ],
 "metadata": {
  "kernelspec": {
   "display_name": "Python 3",
   "language": "python",
   "name": "python3"
  },
  "language_info": {
   "codemirror_mode": {
    "name": "ipython",
    "version": 3
   },
   "file_extension": ".py",
   "mimetype": "text/x-python",
   "name": "python",
   "nbconvert_exporter": "python",
   "pygments_lexer": "ipython3",
   "version": "3.6.5"
  }
 },
 "nbformat": 4,
 "nbformat_minor": 2
}
